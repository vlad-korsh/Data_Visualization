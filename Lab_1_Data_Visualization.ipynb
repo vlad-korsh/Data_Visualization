{
  "nbformat": 4,
  "nbformat_minor": 0,
  "metadata": {
    "colab": {
      "provenance": [],
      "collapsed_sections": []
    },
    "kernelspec": {
      "name": "python3",
      "display_name": "Python 3"
    },
    "language_info": {
      "name": "python"
    }
  },
  "cells": [
    {
      "cell_type": "code",
      "execution_count": 51,
      "metadata": {
        "id": "ycN4wvlkciWD",
        "colab": {
          "base_uri": "https://localhost:8080/"
        },
        "outputId": "14b818dc-cfab-4f1c-b897-9d533040787b"
      },
      "outputs": [
        {
          "output_type": "stream",
          "name": "stdout",
          "text": [
            "Drive already mounted at /content/drive; to attempt to forcibly remount, call drive.mount(\"/content/drive\", force_remount=True).\n"
          ]
        }
      ],
      "source": [
        "from google.colab import drive\n",
        "drive.mount('/content/drive')\n"
      ]
    },
    {
      "cell_type": "code",
      "source": [
        "import pandas as pd\n",
        "import numpy as np\n",
        "import matplotlib.pyplot as plt\n",
        "from matplotlib.pyplot import figure"
      ],
      "metadata": {
        "id": "IIAesLJJFbwj"
      },
      "execution_count": 52,
      "outputs": []
    },
    {
      "cell_type": "markdown",
      "source": [
        "Для работы использован датасет harry-potter-dataset ссылка: https://www.kaggle.com/datasets/adnananam/harry-potter-dataset"
      ],
      "metadata": {
        "id": "2jnZzqALcB0z"
      }
    },
    {
      "cell_type": "code",
      "source": [
        "harry_potter = pd.read_csv(\"/content/drive/MyDrive/Harry_Potter_Scraped_Dataset.csv\")"
      ],
      "metadata": {
        "id": "b240SK8-F3f2"
      },
      "execution_count": 53,
      "outputs": []
    },
    {
      "cell_type": "code",
      "source": [
        "harry_potter"
      ],
      "metadata": {
        "colab": {
          "base_uri": "https://localhost:8080/",
          "height": 269
        },
        "id": "s0L734iuHNQ8",
        "outputId": "0f7b3ad4-462f-4cf9-9432-40b18e12f534"
      },
      "execution_count": 54,
      "outputs": [
        {
          "output_type": "execute_result",
          "data": {
            "text/plain": [
              "                                   Book Name  Copies Sold in UK  \\\n",
              "0      Harry Potter and the Sorcerer’s Stone                4.2   \n",
              "1    Harry Potter and the Chamber of Secrets                3.5   \n",
              "2   Harry Potter and the Prisoner of Azkaban                3.4   \n",
              "3        Harry Potter and the Goblet of Fire                3.6   \n",
              "4  Harry Potter and the Order of the Phoenix                4.2   \n",
              "5     Harry Potter and the Half-blood Prince                4.1   \n",
              "6       Harry Potter and the Deathly Hallows                4.5   \n",
              "\n",
              "   Copies Sold WorldWide  Publish Date Publish Month  Publish Year  Pages  \\\n",
              "0                    120            26          June          1997    223   \n",
              "1                     77             2          July          1998    251   \n",
              "2                     65             8          July          1999    317   \n",
              "3                     65             8          July          2000    636   \n",
              "4                     65            21          June          2003    766   \n",
              "5                     65            16          July          2005    607   \n",
              "6                     65            21          July          2007    607   \n",
              "\n",
              "     Words           Audiobook  Total Awards Won  \n",
              "0   76,944   9 hrs and 33 mins                 8  \n",
              "1   85,141   11 hrs and 5 mins                 5  \n",
              "2  107,253  13 hrs and 10 mins                 3  \n",
              "3  190,637  22 hrs and 17 mins                 1  \n",
              "4  257,045  30 hrs and 18 mins                 1  \n",
              "5  168,923  21 hrs and 27 mins                 1  \n",
              "6  198,227              24 hrs                 0  "
            ],
            "text/html": [
              "\n",
              "  <div id=\"df-422a9f97-56c2-4e89-8c3e-4b8063af1761\">\n",
              "    <div class=\"colab-df-container\">\n",
              "      <div>\n",
              "<style scoped>\n",
              "    .dataframe tbody tr th:only-of-type {\n",
              "        vertical-align: middle;\n",
              "    }\n",
              "\n",
              "    .dataframe tbody tr th {\n",
              "        vertical-align: top;\n",
              "    }\n",
              "\n",
              "    .dataframe thead th {\n",
              "        text-align: right;\n",
              "    }\n",
              "</style>\n",
              "<table border=\"1\" class=\"dataframe\">\n",
              "  <thead>\n",
              "    <tr style=\"text-align: right;\">\n",
              "      <th></th>\n",
              "      <th>Book Name</th>\n",
              "      <th>Copies Sold in UK</th>\n",
              "      <th>Copies Sold WorldWide</th>\n",
              "      <th>Publish Date</th>\n",
              "      <th>Publish Month</th>\n",
              "      <th>Publish Year</th>\n",
              "      <th>Pages</th>\n",
              "      <th>Words</th>\n",
              "      <th>Audiobook</th>\n",
              "      <th>Total Awards Won</th>\n",
              "    </tr>\n",
              "  </thead>\n",
              "  <tbody>\n",
              "    <tr>\n",
              "      <th>0</th>\n",
              "      <td>Harry Potter and the Sorcerer’s Stone</td>\n",
              "      <td>4.2</td>\n",
              "      <td>120</td>\n",
              "      <td>26</td>\n",
              "      <td>June</td>\n",
              "      <td>1997</td>\n",
              "      <td>223</td>\n",
              "      <td>76,944</td>\n",
              "      <td>9 hrs and 33 mins</td>\n",
              "      <td>8</td>\n",
              "    </tr>\n",
              "    <tr>\n",
              "      <th>1</th>\n",
              "      <td>Harry Potter and the Chamber of Secrets</td>\n",
              "      <td>3.5</td>\n",
              "      <td>77</td>\n",
              "      <td>2</td>\n",
              "      <td>July</td>\n",
              "      <td>1998</td>\n",
              "      <td>251</td>\n",
              "      <td>85,141</td>\n",
              "      <td>11 hrs and 5 mins</td>\n",
              "      <td>5</td>\n",
              "    </tr>\n",
              "    <tr>\n",
              "      <th>2</th>\n",
              "      <td>Harry Potter and the Prisoner of Azkaban</td>\n",
              "      <td>3.4</td>\n",
              "      <td>65</td>\n",
              "      <td>8</td>\n",
              "      <td>July</td>\n",
              "      <td>1999</td>\n",
              "      <td>317</td>\n",
              "      <td>107,253</td>\n",
              "      <td>13 hrs and 10 mins</td>\n",
              "      <td>3</td>\n",
              "    </tr>\n",
              "    <tr>\n",
              "      <th>3</th>\n",
              "      <td>Harry Potter and the Goblet of Fire</td>\n",
              "      <td>3.6</td>\n",
              "      <td>65</td>\n",
              "      <td>8</td>\n",
              "      <td>July</td>\n",
              "      <td>2000</td>\n",
              "      <td>636</td>\n",
              "      <td>190,637</td>\n",
              "      <td>22 hrs and 17 mins</td>\n",
              "      <td>1</td>\n",
              "    </tr>\n",
              "    <tr>\n",
              "      <th>4</th>\n",
              "      <td>Harry Potter and the Order of the Phoenix</td>\n",
              "      <td>4.2</td>\n",
              "      <td>65</td>\n",
              "      <td>21</td>\n",
              "      <td>June</td>\n",
              "      <td>2003</td>\n",
              "      <td>766</td>\n",
              "      <td>257,045</td>\n",
              "      <td>30 hrs and 18 mins</td>\n",
              "      <td>1</td>\n",
              "    </tr>\n",
              "    <tr>\n",
              "      <th>5</th>\n",
              "      <td>Harry Potter and the Half-blood Prince</td>\n",
              "      <td>4.1</td>\n",
              "      <td>65</td>\n",
              "      <td>16</td>\n",
              "      <td>July</td>\n",
              "      <td>2005</td>\n",
              "      <td>607</td>\n",
              "      <td>168,923</td>\n",
              "      <td>21 hrs and 27 mins</td>\n",
              "      <td>1</td>\n",
              "    </tr>\n",
              "    <tr>\n",
              "      <th>6</th>\n",
              "      <td>Harry Potter and the Deathly Hallows</td>\n",
              "      <td>4.5</td>\n",
              "      <td>65</td>\n",
              "      <td>21</td>\n",
              "      <td>July</td>\n",
              "      <td>2007</td>\n",
              "      <td>607</td>\n",
              "      <td>198,227</td>\n",
              "      <td>24 hrs</td>\n",
              "      <td>0</td>\n",
              "    </tr>\n",
              "  </tbody>\n",
              "</table>\n",
              "</div>\n",
              "      <button class=\"colab-df-convert\" onclick=\"convertToInteractive('df-422a9f97-56c2-4e89-8c3e-4b8063af1761')\"\n",
              "              title=\"Convert this dataframe to an interactive table.\"\n",
              "              style=\"display:none;\">\n",
              "        \n",
              "  <svg xmlns=\"http://www.w3.org/2000/svg\" height=\"24px\"viewBox=\"0 0 24 24\"\n",
              "       width=\"24px\">\n",
              "    <path d=\"M0 0h24v24H0V0z\" fill=\"none\"/>\n",
              "    <path d=\"M18.56 5.44l.94 2.06.94-2.06 2.06-.94-2.06-.94-.94-2.06-.94 2.06-2.06.94zm-11 1L8.5 8.5l.94-2.06 2.06-.94-2.06-.94L8.5 2.5l-.94 2.06-2.06.94zm10 10l.94 2.06.94-2.06 2.06-.94-2.06-.94-.94-2.06-.94 2.06-2.06.94z\"/><path d=\"M17.41 7.96l-1.37-1.37c-.4-.4-.92-.59-1.43-.59-.52 0-1.04.2-1.43.59L10.3 9.45l-7.72 7.72c-.78.78-.78 2.05 0 2.83L4 21.41c.39.39.9.59 1.41.59.51 0 1.02-.2 1.41-.59l7.78-7.78 2.81-2.81c.8-.78.8-2.07 0-2.86zM5.41 20L4 18.59l7.72-7.72 1.47 1.35L5.41 20z\"/>\n",
              "  </svg>\n",
              "      </button>\n",
              "      \n",
              "  <style>\n",
              "    .colab-df-container {\n",
              "      display:flex;\n",
              "      flex-wrap:wrap;\n",
              "      gap: 12px;\n",
              "    }\n",
              "\n",
              "    .colab-df-convert {\n",
              "      background-color: #E8F0FE;\n",
              "      border: none;\n",
              "      border-radius: 50%;\n",
              "      cursor: pointer;\n",
              "      display: none;\n",
              "      fill: #1967D2;\n",
              "      height: 32px;\n",
              "      padding: 0 0 0 0;\n",
              "      width: 32px;\n",
              "    }\n",
              "\n",
              "    .colab-df-convert:hover {\n",
              "      background-color: #E2EBFA;\n",
              "      box-shadow: 0px 1px 2px rgba(60, 64, 67, 0.3), 0px 1px 3px 1px rgba(60, 64, 67, 0.15);\n",
              "      fill: #174EA6;\n",
              "    }\n",
              "\n",
              "    [theme=dark] .colab-df-convert {\n",
              "      background-color: #3B4455;\n",
              "      fill: #D2E3FC;\n",
              "    }\n",
              "\n",
              "    [theme=dark] .colab-df-convert:hover {\n",
              "      background-color: #434B5C;\n",
              "      box-shadow: 0px 1px 3px 1px rgba(0, 0, 0, 0.15);\n",
              "      filter: drop-shadow(0px 1px 2px rgba(0, 0, 0, 0.3));\n",
              "      fill: #FFFFFF;\n",
              "    }\n",
              "  </style>\n",
              "\n",
              "      <script>\n",
              "        const buttonEl =\n",
              "          document.querySelector('#df-422a9f97-56c2-4e89-8c3e-4b8063af1761 button.colab-df-convert');\n",
              "        buttonEl.style.display =\n",
              "          google.colab.kernel.accessAllowed ? 'block' : 'none';\n",
              "\n",
              "        async function convertToInteractive(key) {\n",
              "          const element = document.querySelector('#df-422a9f97-56c2-4e89-8c3e-4b8063af1761');\n",
              "          const dataTable =\n",
              "            await google.colab.kernel.invokeFunction('convertToInteractive',\n",
              "                                                     [key], {});\n",
              "          if (!dataTable) return;\n",
              "\n",
              "          const docLinkHtml = 'Like what you see? Visit the ' +\n",
              "            '<a target=\"_blank\" href=https://colab.research.google.com/notebooks/data_table.ipynb>data table notebook</a>'\n",
              "            + ' to learn more about interactive tables.';\n",
              "          element.innerHTML = '';\n",
              "          dataTable['output_type'] = 'display_data';\n",
              "          await google.colab.output.renderOutput(dataTable, element);\n",
              "          const docLink = document.createElement('div');\n",
              "          docLink.innerHTML = docLinkHtml;\n",
              "          element.appendChild(docLink);\n",
              "        }\n",
              "      </script>\n",
              "    </div>\n",
              "  </div>\n",
              "  "
            ]
          },
          "metadata": {},
          "execution_count": 54
        }
      ]
    },
    {
      "cell_type": "code",
      "source": [
        "harry_potter.info"
      ],
      "metadata": {
        "colab": {
          "base_uri": "https://localhost:8080/"
        },
        "id": "TnENLYUiHqN6",
        "outputId": "7fa03149-c323-4062-816c-3a9eb7a755a0"
      },
      "execution_count": 55,
      "outputs": [
        {
          "output_type": "execute_result",
          "data": {
            "text/plain": [
              "<bound method DataFrame.info of                                    Book Name  Copies Sold in UK  \\\n",
              "0      Harry Potter and the Sorcerer’s Stone                4.2   \n",
              "1    Harry Potter and the Chamber of Secrets                3.5   \n",
              "2   Harry Potter and the Prisoner of Azkaban                3.4   \n",
              "3        Harry Potter and the Goblet of Fire                3.6   \n",
              "4  Harry Potter and the Order of the Phoenix                4.2   \n",
              "5     Harry Potter and the Half-blood Prince                4.1   \n",
              "6       Harry Potter and the Deathly Hallows                4.5   \n",
              "\n",
              "   Copies Sold WorldWide  Publish Date Publish Month  Publish Year  Pages  \\\n",
              "0                    120            26          June          1997    223   \n",
              "1                     77             2          July          1998    251   \n",
              "2                     65             8          July          1999    317   \n",
              "3                     65             8          July          2000    636   \n",
              "4                     65            21          June          2003    766   \n",
              "5                     65            16          July          2005    607   \n",
              "6                     65            21          July          2007    607   \n",
              "\n",
              "     Words           Audiobook  Total Awards Won  \n",
              "0   76,944   9 hrs and 33 mins                 8  \n",
              "1   85,141   11 hrs and 5 mins                 5  \n",
              "2  107,253  13 hrs and 10 mins                 3  \n",
              "3  190,637  22 hrs and 17 mins                 1  \n",
              "4  257,045  30 hrs and 18 mins                 1  \n",
              "5  168,923  21 hrs and 27 mins                 1  \n",
              "6  198,227              24 hrs                 0  >"
            ]
          },
          "metadata": {},
          "execution_count": 55
        }
      ]
    },
    {
      "cell_type": "code",
      "source": [
        "#Чтобы было проще ориентироваться, я просто пронумерую книги. И да, первая и вторая части Седьмой книги объединены.\n",
        "harry_potter['Book Name'] = ['Harry Potter 1', 'Harry Potter 2', 'Harry Potter 3', 'Harry Potter 4', 'Harry Potter 5', 'Harry Potter 6', 'Harry Potter 7']"
      ],
      "metadata": {
        "id": "KLY-Xc34RsrU"
      },
      "execution_count": 56,
      "outputs": []
    },
    {
      "cell_type": "code",
      "source": [
        "harry_potter"
      ],
      "metadata": {
        "colab": {
          "base_uri": "https://localhost:8080/",
          "height": 269
        },
        "id": "6S1b3N-nSTMw",
        "outputId": "3e55f786-943e-4d52-e5ba-a478f99e1a7d"
      },
      "execution_count": 57,
      "outputs": [
        {
          "output_type": "execute_result",
          "data": {
            "text/plain": [
              "        Book Name  Copies Sold in UK  Copies Sold WorldWide  Publish Date  \\\n",
              "0  Harry Potter 1                4.2                    120            26   \n",
              "1  Harry Potter 2                3.5                     77             2   \n",
              "2  Harry Potter 3                3.4                     65             8   \n",
              "3  Harry Potter 4                3.6                     65             8   \n",
              "4  Harry Potter 5                4.2                     65            21   \n",
              "5  Harry Potter 6                4.1                     65            16   \n",
              "6  Harry Potter 7                4.5                     65            21   \n",
              "\n",
              "  Publish Month  Publish Year  Pages    Words           Audiobook  \\\n",
              "0          June          1997    223   76,944   9 hrs and 33 mins   \n",
              "1          July          1998    251   85,141   11 hrs and 5 mins   \n",
              "2          July          1999    317  107,253  13 hrs and 10 mins   \n",
              "3          July          2000    636  190,637  22 hrs and 17 mins   \n",
              "4          June          2003    766  257,045  30 hrs and 18 mins   \n",
              "5          July          2005    607  168,923  21 hrs and 27 mins   \n",
              "6          July          2007    607  198,227              24 hrs   \n",
              "\n",
              "   Total Awards Won  \n",
              "0                 8  \n",
              "1                 5  \n",
              "2                 3  \n",
              "3                 1  \n",
              "4                 1  \n",
              "5                 1  \n",
              "6                 0  "
            ],
            "text/html": [
              "\n",
              "  <div id=\"df-5e64b92b-71fc-4dc0-b4c4-1ce7244e0eec\">\n",
              "    <div class=\"colab-df-container\">\n",
              "      <div>\n",
              "<style scoped>\n",
              "    .dataframe tbody tr th:only-of-type {\n",
              "        vertical-align: middle;\n",
              "    }\n",
              "\n",
              "    .dataframe tbody tr th {\n",
              "        vertical-align: top;\n",
              "    }\n",
              "\n",
              "    .dataframe thead th {\n",
              "        text-align: right;\n",
              "    }\n",
              "</style>\n",
              "<table border=\"1\" class=\"dataframe\">\n",
              "  <thead>\n",
              "    <tr style=\"text-align: right;\">\n",
              "      <th></th>\n",
              "      <th>Book Name</th>\n",
              "      <th>Copies Sold in UK</th>\n",
              "      <th>Copies Sold WorldWide</th>\n",
              "      <th>Publish Date</th>\n",
              "      <th>Publish Month</th>\n",
              "      <th>Publish Year</th>\n",
              "      <th>Pages</th>\n",
              "      <th>Words</th>\n",
              "      <th>Audiobook</th>\n",
              "      <th>Total Awards Won</th>\n",
              "    </tr>\n",
              "  </thead>\n",
              "  <tbody>\n",
              "    <tr>\n",
              "      <th>0</th>\n",
              "      <td>Harry Potter 1</td>\n",
              "      <td>4.2</td>\n",
              "      <td>120</td>\n",
              "      <td>26</td>\n",
              "      <td>June</td>\n",
              "      <td>1997</td>\n",
              "      <td>223</td>\n",
              "      <td>76,944</td>\n",
              "      <td>9 hrs and 33 mins</td>\n",
              "      <td>8</td>\n",
              "    </tr>\n",
              "    <tr>\n",
              "      <th>1</th>\n",
              "      <td>Harry Potter 2</td>\n",
              "      <td>3.5</td>\n",
              "      <td>77</td>\n",
              "      <td>2</td>\n",
              "      <td>July</td>\n",
              "      <td>1998</td>\n",
              "      <td>251</td>\n",
              "      <td>85,141</td>\n",
              "      <td>11 hrs and 5 mins</td>\n",
              "      <td>5</td>\n",
              "    </tr>\n",
              "    <tr>\n",
              "      <th>2</th>\n",
              "      <td>Harry Potter 3</td>\n",
              "      <td>3.4</td>\n",
              "      <td>65</td>\n",
              "      <td>8</td>\n",
              "      <td>July</td>\n",
              "      <td>1999</td>\n",
              "      <td>317</td>\n",
              "      <td>107,253</td>\n",
              "      <td>13 hrs and 10 mins</td>\n",
              "      <td>3</td>\n",
              "    </tr>\n",
              "    <tr>\n",
              "      <th>3</th>\n",
              "      <td>Harry Potter 4</td>\n",
              "      <td>3.6</td>\n",
              "      <td>65</td>\n",
              "      <td>8</td>\n",
              "      <td>July</td>\n",
              "      <td>2000</td>\n",
              "      <td>636</td>\n",
              "      <td>190,637</td>\n",
              "      <td>22 hrs and 17 mins</td>\n",
              "      <td>1</td>\n",
              "    </tr>\n",
              "    <tr>\n",
              "      <th>4</th>\n",
              "      <td>Harry Potter 5</td>\n",
              "      <td>4.2</td>\n",
              "      <td>65</td>\n",
              "      <td>21</td>\n",
              "      <td>June</td>\n",
              "      <td>2003</td>\n",
              "      <td>766</td>\n",
              "      <td>257,045</td>\n",
              "      <td>30 hrs and 18 mins</td>\n",
              "      <td>1</td>\n",
              "    </tr>\n",
              "    <tr>\n",
              "      <th>5</th>\n",
              "      <td>Harry Potter 6</td>\n",
              "      <td>4.1</td>\n",
              "      <td>65</td>\n",
              "      <td>16</td>\n",
              "      <td>July</td>\n",
              "      <td>2005</td>\n",
              "      <td>607</td>\n",
              "      <td>168,923</td>\n",
              "      <td>21 hrs and 27 mins</td>\n",
              "      <td>1</td>\n",
              "    </tr>\n",
              "    <tr>\n",
              "      <th>6</th>\n",
              "      <td>Harry Potter 7</td>\n",
              "      <td>4.5</td>\n",
              "      <td>65</td>\n",
              "      <td>21</td>\n",
              "      <td>July</td>\n",
              "      <td>2007</td>\n",
              "      <td>607</td>\n",
              "      <td>198,227</td>\n",
              "      <td>24 hrs</td>\n",
              "      <td>0</td>\n",
              "    </tr>\n",
              "  </tbody>\n",
              "</table>\n",
              "</div>\n",
              "      <button class=\"colab-df-convert\" onclick=\"convertToInteractive('df-5e64b92b-71fc-4dc0-b4c4-1ce7244e0eec')\"\n",
              "              title=\"Convert this dataframe to an interactive table.\"\n",
              "              style=\"display:none;\">\n",
              "        \n",
              "  <svg xmlns=\"http://www.w3.org/2000/svg\" height=\"24px\"viewBox=\"0 0 24 24\"\n",
              "       width=\"24px\">\n",
              "    <path d=\"M0 0h24v24H0V0z\" fill=\"none\"/>\n",
              "    <path d=\"M18.56 5.44l.94 2.06.94-2.06 2.06-.94-2.06-.94-.94-2.06-.94 2.06-2.06.94zm-11 1L8.5 8.5l.94-2.06 2.06-.94-2.06-.94L8.5 2.5l-.94 2.06-2.06.94zm10 10l.94 2.06.94-2.06 2.06-.94-2.06-.94-.94-2.06-.94 2.06-2.06.94z\"/><path d=\"M17.41 7.96l-1.37-1.37c-.4-.4-.92-.59-1.43-.59-.52 0-1.04.2-1.43.59L10.3 9.45l-7.72 7.72c-.78.78-.78 2.05 0 2.83L4 21.41c.39.39.9.59 1.41.59.51 0 1.02-.2 1.41-.59l7.78-7.78 2.81-2.81c.8-.78.8-2.07 0-2.86zM5.41 20L4 18.59l7.72-7.72 1.47 1.35L5.41 20z\"/>\n",
              "  </svg>\n",
              "      </button>\n",
              "      \n",
              "  <style>\n",
              "    .colab-df-container {\n",
              "      display:flex;\n",
              "      flex-wrap:wrap;\n",
              "      gap: 12px;\n",
              "    }\n",
              "\n",
              "    .colab-df-convert {\n",
              "      background-color: #E8F0FE;\n",
              "      border: none;\n",
              "      border-radius: 50%;\n",
              "      cursor: pointer;\n",
              "      display: none;\n",
              "      fill: #1967D2;\n",
              "      height: 32px;\n",
              "      padding: 0 0 0 0;\n",
              "      width: 32px;\n",
              "    }\n",
              "\n",
              "    .colab-df-convert:hover {\n",
              "      background-color: #E2EBFA;\n",
              "      box-shadow: 0px 1px 2px rgba(60, 64, 67, 0.3), 0px 1px 3px 1px rgba(60, 64, 67, 0.15);\n",
              "      fill: #174EA6;\n",
              "    }\n",
              "\n",
              "    [theme=dark] .colab-df-convert {\n",
              "      background-color: #3B4455;\n",
              "      fill: #D2E3FC;\n",
              "    }\n",
              "\n",
              "    [theme=dark] .colab-df-convert:hover {\n",
              "      background-color: #434B5C;\n",
              "      box-shadow: 0px 1px 3px 1px rgba(0, 0, 0, 0.15);\n",
              "      filter: drop-shadow(0px 1px 2px rgba(0, 0, 0, 0.3));\n",
              "      fill: #FFFFFF;\n",
              "    }\n",
              "  </style>\n",
              "\n",
              "      <script>\n",
              "        const buttonEl =\n",
              "          document.querySelector('#df-5e64b92b-71fc-4dc0-b4c4-1ce7244e0eec button.colab-df-convert');\n",
              "        buttonEl.style.display =\n",
              "          google.colab.kernel.accessAllowed ? 'block' : 'none';\n",
              "\n",
              "        async function convertToInteractive(key) {\n",
              "          const element = document.querySelector('#df-5e64b92b-71fc-4dc0-b4c4-1ce7244e0eec');\n",
              "          const dataTable =\n",
              "            await google.colab.kernel.invokeFunction('convertToInteractive',\n",
              "                                                     [key], {});\n",
              "          if (!dataTable) return;\n",
              "\n",
              "          const docLinkHtml = 'Like what you see? Visit the ' +\n",
              "            '<a target=\"_blank\" href=https://colab.research.google.com/notebooks/data_table.ipynb>data table notebook</a>'\n",
              "            + ' to learn more about interactive tables.';\n",
              "          element.innerHTML = '';\n",
              "          dataTable['output_type'] = 'display_data';\n",
              "          await google.colab.output.renderOutput(dataTable, element);\n",
              "          const docLink = document.createElement('div');\n",
              "          docLink.innerHTML = docLinkHtml;\n",
              "          element.appendChild(docLink);\n",
              "        }\n",
              "      </script>\n",
              "    </div>\n",
              "  </div>\n",
              "  "
            ]
          },
          "metadata": {},
          "execution_count": 57
        }
      ]
    },
    {
      "cell_type": "code",
      "source": [
        "print(harry_potter.columns.tolist())"
      ],
      "metadata": {
        "colab": {
          "base_uri": "https://localhost:8080/"
        },
        "id": "kSbE-On2Kg0a",
        "outputId": "fcbc34c5-b085-4e75-8af3-64e8064cfd40"
      },
      "execution_count": 58,
      "outputs": [
        {
          "output_type": "stream",
          "name": "stdout",
          "text": [
            "['Book Name', 'Copies Sold in UK', 'Copies Sold WorldWide', 'Publish Date', 'Publish Month', 'Publish Year', 'Pages', 'Words', 'Audiobook', 'Total Awards Won']\n"
          ]
        }
      ]
    },
    {
      "cell_type": "code",
      "source": [
        "book_name = harry_potter['Book Name'].tolist()\n",
        "sold_in_uk = harry_potter['Copies Sold in UK'].tolist()\n",
        "print(sold_in_uk)"
      ],
      "metadata": {
        "colab": {
          "base_uri": "https://localhost:8080/"
        },
        "id": "uk2YS30jLRep",
        "outputId": "ed5137ff-9268-433f-b6ae-a312713e2fad"
      },
      "execution_count": 59,
      "outputs": [
        {
          "output_type": "stream",
          "name": "stdout",
          "text": [
            "[4.2, 3.5, 3.4, 3.6, 4.2, 4.1, 4.5]\n"
          ]
        }
      ]
    },
    {
      "cell_type": "markdown",
      "source": [
        "## Неправильные графики"
      ],
      "metadata": {
        "id": "gpUEmKMBPcGz"
      }
    },
    {
      "cell_type": "code",
      "source": [
        "# На графике виден существенный спад продаж, хотя фактически колебание (снижение с 3,5 млн до 3,4 млн и рост до 3,6 млн) составило менее 6%\n",
        "x_1 = [book_name[1], book_name[2], book_name[3]]\n",
        "y_1 = [sold_in_uk[1], sold_in_uk[2], sold_in_uk[3]]\n",
        "\n",
        "plt.plot(x_1, y_1)\n",
        "plt.show()"
      ],
      "metadata": {
        "colab": {
          "base_uri": "https://localhost:8080/",
          "height": 265
        },
        "id": "G9Ab1k0fMRml",
        "outputId": "f9265bc2-688f-49e2-f026-200207eef8fc"
      },
      "execution_count": 60,
      "outputs": [
        {
          "output_type": "display_data",
          "data": {
            "text/plain": [
              "<Figure size 432x288 with 1 Axes>"
            ],
            "image/png": "[encoded data removed]"
          },
          "metadata": {
            "needs_background": "light"
          }
        }
      ]
    },
    {
      "cell_type": "code",
      "source": [
        "#Неверная метрика: Выдать второстепенную метрику (в данном случае увеличение количества страниц) за первостепенную метрику, оказывающую критическое воздейсвие на качество продукта\n",
        "pages = harry_potter['Pages'].tolist()\n",
        "fig, ax = plt.subplots(figsize=(25,5))\n",
        "barlist = plt.bar(book_name, pages)\n",
        "\n",
        "barlist[0].set_color('r')\n",
        "barlist[1].set_color('r')\n",
        "barlist[2].set_color('y')\n",
        "barlist[3].set_color('g')\n",
        "barlist[4].set_color('g')\n",
        "barlist[5].set_color('g')\n",
        "barlist[6].set_color('g')\n",
        "\n",
        "plt.title(\"Рост количества страниц(больше - лучше)\")\n",
        "plt.xlabel(\"Книга\")\n",
        "plt.ylabel(\"Количество страниц\")"
      ],
      "metadata": {
        "colab": {
          "base_uri": "https://localhost:8080/",
          "height": 363
        },
        "id": "PGfvvUvrPipZ",
        "outputId": "7aec39b1-b778-4f15-9834-abd5aabb33d4"
      },
      "execution_count": 61,
      "outputs": [
        {
          "output_type": "execute_result",
          "data": {
            "text/plain": [
              "Text(0, 0.5, 'Количество страниц')"
            ]
          },
          "metadata": {},
          "execution_count": 61
        },
        {
          "output_type": "display_data",
          "data": {
            "text/plain": [
              "<Figure size 1800x360 with 1 Axes>"
            ],
            "image/png": "[encoded data removed]"
          },
          "metadata": {
            "needs_background": "light"
          }
        }
      ]
    },
    {
      "cell_type": "code",
      "source": [
        "# Ложные зависимости: Продемонстрировать несуществующую зависимость роста целевого показателя от в второстепенного показателя\n",
        "\n",
        "# Можно продемонстрировать зависимость увеличения числа продаж в Великобритании от увеличения количества страниц \n",
        "x_3 = [pages[2], pages[3], pages[4]]\n",
        "y_3 = [sold_in_uk[2], sold_in_uk[3], sold_in_uk[4]]\n",
        "\n",
        "plt.plot(x_3, y_3)\n",
        "plt.show()"
      ],
      "metadata": {
        "colab": {
          "base_uri": "https://localhost:8080/",
          "height": 265
        },
        "id": "YtfIAzPCUaoC",
        "outputId": "b3365357-52d6-4c5c-84e3-37bd2a475561"
      },
      "execution_count": 62,
      "outputs": [
        {
          "output_type": "display_data",
          "data": {
            "text/plain": [
              "<Figure size 432x288 with 1 Axes>"
            ],
            "image/png": "[encoded data removed]"
          },
          "metadata": {
            "needs_background": "light"
          }
        }
      ]
    },
    {
      "cell_type": "code",
      "source": [
        "# Сравнивать объекты по несвязанным показателям: Продажи по первым двум книгам указаны только в Великобритания, а для остальных во всё мире(при этом продажи в мире первых двух больше) \n",
        "sold_in_world = harry_potter['Copies Sold WorldWide'].tolist()\n",
        "\n",
        "x_4 = [sold_in_uk[0], sold_in_uk[1], sold_in_world[2], sold_in_world[3], sold_in_world[4], sold_in_world[5], sold_in_world[6]]\n",
        "\n",
        "fig, ax = plt.subplots(figsize=(25,5))\n",
        "barlist = plt.bar(book_name, x_4)\n",
        "\n",
        "barlist[0].set_color('r')\n",
        "barlist[1].set_color('r')\n",
        "barlist[2].set_color('g')\n",
        "barlist[3].set_color('g')\n",
        "barlist[4].set_color('g')\n",
        "barlist[5].set_color('g')\n",
        "barlist[6].set_color('g')"
      ],
      "metadata": {
        "colab": {
          "base_uri": "https://localhost:8080/",
          "height": 320
        },
        "id": "65u0wBuY_AWx",
        "outputId": "082ffd12-923b-4da9-f253-b2ac39bf8bc5"
      },
      "execution_count": 63,
      "outputs": [
        {
          "output_type": "display_data",
          "data": {
            "text/plain": [
              "<Figure size 1800x360 with 1 Axes>"
            ],
            "image/png": "[encoded data removed]"
          },
          "metadata": {
            "needs_background": "light"
          }
        }
      ]
    },
    {
      "cell_type": "markdown",
      "source": [
        "## Правильные графики"
      ],
      "metadata": {
        "id": "YnJQ89bGPku7"
      }
    },
    {
      "cell_type": "code",
      "source": [
        "# Честное сравнение продаж разных частей серии\n",
        "\n",
        "fig, ax = plt.subplots(figsize=(25,5))\n",
        "barlist = plt.bar(book_name, sold_in_world)\n",
        "\n",
        "barlist[0].set_color('g')\n",
        "barlist[1].set_color('y')\n",
        "barlist[2].set_color('r')\n",
        "barlist[3].set_color('r')\n",
        "barlist[4].set_color('r')\n",
        "barlist[5].set_color('r')\n",
        "barlist[6].set_color('r')"
      ],
      "metadata": {
        "colab": {
          "base_uri": "https://localhost:8080/",
          "height": 319
        },
        "id": "tTnlnuSkPI5j",
        "outputId": "ba80cdfa-ca2f-49fc-8c85-f39e0171d9b3"
      },
      "execution_count": 64,
      "outputs": [
        {
          "output_type": "display_data",
          "data": {
            "text/plain": [
              "<Figure size 1800x360 with 1 Axes>"
            ],
            "image/png": "[encoded data removed]"
          },
          "metadata": {
            "needs_background": "light"
          }
        }
      ]
    },
    {
      "cell_type": "code",
      "source": [
        "# Количество премий для каждой части\n",
        "total_awards = harry_potter['Total Awards Won'].tolist()\n",
        "x_6 = total_awards\n",
        "\n",
        "plt.hist(x_6)\n",
        "plt.show()"
      ],
      "metadata": {
        "colab": {
          "base_uri": "https://localhost:8080/",
          "height": 265
        },
        "id": "g5xkPiFdUpu9",
        "outputId": "ae9ba39f-0575-42ae-b41d-10636aadf462"
      },
      "execution_count": 65,
      "outputs": [
        {
          "output_type": "display_data",
          "data": {
            "text/plain": [
              "<Figure size 432x288 with 1 Axes>"
            ],
            "image/png": "[encoded data removed]"
          },
          "metadata": {
            "needs_background": "light"
          }
        }
      ]
    },
    {
      "cell_type": "code",
      "source": [
        "# Влияние количества страниц на продажи (тут используются все книги, а не только те, что подтверждают гипотезу)\n",
        "publish_year = harry_potter['Publish Year'].tolist()\n",
        "plt.plot(pages, sold_in_uk)\n",
        "plt.show()\n",
        "\n",
        "#Как видно из графика, количество страниц на продажи не влияет"
      ],
      "metadata": {
        "colab": {
          "base_uri": "https://localhost:8080/",
          "height": 265
        },
        "id": "bqTA_7lAV_AT",
        "outputId": "dd32823f-e31f-4708-cb0d-02744b2c19ba"
      },
      "execution_count": 66,
      "outputs": [
        {
          "output_type": "display_data",
          "data": {
            "text/plain": [
              "<Figure size 432x288 with 1 Axes>"
            ],
            "image/png": "[encoded data removed]"
          },
          "metadata": {
            "needs_background": "light"
          }
        }
      ]
    },
    {
      "cell_type": "code",
      "source": [
        "# Рост общего числа изданных книг по годам\n",
        "total_sold = []\n",
        "ts = 0\n",
        "\n",
        "year = harry_potter['Publish Year'].tolist()\n",
        "yc = len(year)\n",
        "\n",
        "for i in range(yc):\n",
        "  ts = ts + sold_in_world[i]\n",
        "  total_sold.append(ts)\n",
        "\n",
        "print(total_sold)\n",
        "\n",
        "plt.plot(year, total_sold)\n",
        "plt.show"
      ],
      "metadata": {
        "colab": {
          "base_uri": "https://localhost:8080/",
          "height": 300
        },
        "id": "hp2P7zR1aDvH",
        "outputId": "d8dc5843-1fdb-4217-a3bd-a0defff16128"
      },
      "execution_count": 67,
      "outputs": [
        {
          "output_type": "stream",
          "name": "stdout",
          "text": [
            "[120, 197, 262, 327, 392, 457, 522]\n"
          ]
        },
        {
          "output_type": "execute_result",
          "data": {
            "text/plain": [
              "<function matplotlib.pyplot.show(*args, **kw)>"
            ]
          },
          "metadata": {},
          "execution_count": 67
        },
        {
          "output_type": "display_data",
          "data": {
            "text/plain": [
              "<Figure size 432x288 with 1 Axes>"
            ],
            "image/png": "[encoded data removed]"
          },
          "metadata": {
            "needs_background": "light"
          }
        }
      ]
    }
  ]
}